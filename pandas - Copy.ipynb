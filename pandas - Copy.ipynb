{
 "cells": [
  {
   "cell_type": "code",
   "execution_count": 19,
   "id": "2f0493aa-e2be-4047-a4c5-ba82ae631652",
   "metadata": {},
   "outputs": [
    {
     "data": {
      "text/plain": [
       "0     5\n",
       "1    10\n",
       "2    15\n",
       "3    20\n",
       "4    25\n",
       "5    30\n",
       "6    35\n",
       "dtype: int64"
      ]
     },
     "execution_count": 19,
     "metadata": {},
     "output_type": "execute_result"
    }
   ],
   "source": [
    "import pandas as pd\n",
    "s=pd.Series([5,10,15,20,25,30,35])\n",
    "s.dtype\n",
    "s"
   ]
  },
  {
   "cell_type": "code",
   "execution_count": 6,
   "id": "9bcc42ac-5c1d-4da0-88f8-9d2ca0c5b1f7",
   "metadata": {},
   "outputs": [
    {
     "name": "stdout",
     "output_type": "stream",
     "text": [
      "2.3.1\n"
     ]
    }
   ],
   "source": [
    "print(pd.__version__)"
   ]
  },
  {
   "cell_type": "code",
   "execution_count": 20,
   "id": "5ffb72db-1903-4691-8c39-39673fbf8401",
   "metadata": {},
   "outputs": [
    {
     "data": {
      "text/plain": [
       "RangeIndex(start=0, stop=7, step=1)"
      ]
     },
     "execution_count": 20,
     "metadata": {},
     "output_type": "execute_result"
    }
   ],
   "source": [
    "s.index\n"
   ]
  },
  {
   "cell_type": "code",
   "execution_count": 25,
   "id": "424fe277-f441-4b78-a37c-9d654cf733ce",
   "metadata": {},
   "outputs": [
    {
     "name": "stdout",
     "output_type": "stream",
     "text": [
      "DadzaMoyo\n"
     ]
    },
    {
     "data": {
      "text/plain": [
       "0     5\n",
       "1    10\n",
       "2    15\n",
       "3    20\n",
       "4    25\n",
       "5    30\n",
       "6    35\n",
       "Name: DadzaMoyo, dtype: int64"
      ]
     },
     "execution_count": 25,
     "metadata": {},
     "output_type": "execute_result"
    }
   ],
   "source": [
    "s.name=\"DadzaMoyo\"\n",
    "print(s.name)\n",
    "s"
   ]
  },
  {
   "cell_type": "code",
   "execution_count": 28,
   "id": "238a1f06-7a9c-40f2-8340-f3fd59b5e63a",
   "metadata": {},
   "outputs": [
    {
     "data": {
      "text/plain": [
       "beans            5\n",
       "nyoro           10\n",
       "bhawa           15\n",
       "mwana           20\n",
       "mudoridori      25\n",
       "akapfekaa       30\n",
       "chimbambamba    35\n",
       "Name: DadzaMoyo, dtype: int64"
      ]
     },
     "execution_count": 28,
     "metadata": {},
     "output_type": "execute_result"
    }
   ],
   "source": [
    "#indexing\n",
    "index=[\"beans\",\"nyoro\",\"bhawa\",\"mwana\",\"mudoridori\",\"akapfekaa\",\"chimbambamba\"]\n",
    "s.index=index\n",
    "s"
   ]
  },
  {
   "cell_type": "code",
   "execution_count": 33,
   "id": "a4bef104-892d-4f5b-899b-55128d589bdc",
   "metadata": {},
   "outputs": [
    {
     "name": "stdout",
     "output_type": "stream",
     "text": [
      "5\n"
     ]
    }
   ],
   "source": [
    "print(s[\"beans\"])"
   ]
  },
  {
   "cell_type": "code",
   "execution_count": 38,
   "id": "81a4ecac-bddc-48d6-84d9-51683d9c7eb6",
   "metadata": {},
   "outputs": [
    {
     "name": "stdout",
     "output_type": "stream",
     "text": [
      "beans     5\n",
      "nyoro    10\n",
      "Name: DadzaMoyo, dtype: int64 \n",
      "\n",
      "\n",
      " beans          5\n",
      "nyoro         10\n",
      "bhawa         15\n",
      "mwana         20\n",
      "mudoridori    25\n",
      "Name: DadzaMoyo, dtype: int64\n"
     ]
    }
   ],
   "source": [
    "print(s[0:2],\"\\n\")\n",
    "print(\"\\n\",s[\"beans\":\"mudoridori\"])"
   ]
  },
  {
   "cell_type": "code",
   "execution_count": 45,
   "id": "94ed45ff-a205-4d34-a223-f56f7f18997b",
   "metadata": {},
   "outputs": [
    {
     "name": "stdout",
     "output_type": "stream",
     "text": [
      "10 \n",
      "\n",
      "\n",
      "bhawa         15\n",
      "mudoridori    25\n",
      "Name: DadzaMoyo, dtype: int64 \n",
      "\n",
      "\n"
     ]
    }
   ],
   "source": [
    "#iloc-->integer location based indexing\n",
    "print(s.loc[\"nyoro\"],\"\\n\\n\")\n",
    "#retrivieving certain number of elements\n",
    "print(s.iloc[[2,4]],\"\\n\\n\")"
   ]
  },
  {
   "cell_type": "code",
   "execution_count": 55,
   "id": "f92fd914-28d8-41a9-9afe-8057f8a0f2bf",
   "metadata": {},
   "outputs": [
    {
     "name": "stdout",
     "output_type": "stream",
     "text": [
      "['a', 'b', 'c', 'd'] \n",
      "\n",
      "(4,) \n",
      "\n",
      "4 \n",
      "\n",
      "False \n",
      "\n",
      "True \n",
      "\n"
     ]
    }
   ],
   "source": [
    "arr=pd.Series([10,20,30,40])\n",
    "index=['a','b','c','d']\n",
    "print(index,\"\\n\")\n",
    "print(arr.shape,\"\\n\")\n",
    "print(arr.size,\"\\n\")\n",
    "print(arr.empty,\"\\n\")\n",
    "s1=pd.Series([])\n",
    "print(s1.empty,\"\\n\")"
   ]
  },
  {
   "cell_type": "code",
   "execution_count": 63,
   "id": "64e5caa4-24dc-4d41-bf88-b508149d1b5d",
   "metadata": {},
   "outputs": [
    {
     "name": "stdout",
     "output_type": "stream",
     "text": [
      "True \n",
      "\n",
      "24 \n",
      "\n",
      "1 \n",
      "\n"
     ]
    }
   ],
   "source": [
    "s3=pd.Series([1,None,5])#series having any undefined value or None\n",
    "print(s3.hasnans,\"\\n\")\n",
    "print(s3.nbytes,\"\\n\")\n",
    "print(s3.ndim,\"\\n\")"
   ]
  },
  {
   "cell_type": "code",
   "execution_count": 68,
   "id": "3a85d8b0-4900-4aa6-aa46-fad528dd7ddb",
   "metadata": {},
   "outputs": [
    {
     "data": {
      "text/plain": [
       "Mashwede                     10\n",
       "Highglen                     11\n",
       "KwaTerry                     80\n",
       "Mutangaz                     20\n",
       "Hatfields                     3\n",
       "Mazowe Dam                   90\n",
       "Victoria Falls              300\n",
       "Mutarazi Falls              250\n",
       "Nyanga Mountain             250\n",
       "Gonarezhou National Park    295\n",
       "Name: Tourist attraction places, dtype: int64"
      ]
     },
     "execution_count": 68,
     "metadata": {},
     "output_type": "execute_result"
    }
   ],
   "source": [
    "#kilometres from watrefalls\n",
    "Nzvimbo_dzemafaro={\n",
    "    \"Mashwede\":10,\n",
    "    \"Highglen\":11,\n",
    "    \"KwaTerry\":80,\n",
    "    \"Mutangaz\":20,\n",
    "    \"Hatfields\":3,\n",
    "    \"Mazowe Dam\":90,\n",
    "    \"Victoria Falls\":300,\n",
    "    \"Mutarazi Falls\":250,\n",
    "     \"Nyanga Mountain\":250,\n",
    "      \"Gonarezhou National Park\":295\n",
    "}\n",
    "series=pd.Series(Nzvimbo_dzemafaro,name=\"Tourist attraction places\")\n",
    "series"
   ]
  },
  {
   "cell_type": "code",
   "execution_count": 84,
   "id": "a4475212-3ef2-4c66-b792-b674711214a3",
   "metadata": {},
   "outputs": [
    {
     "data": {
      "text/plain": [
       "Victoria Falls              300\n",
       "Mutarazi Falls              250\n",
       "Nyanga Mountain             250\n",
       "Gonarezhou National Park    295\n",
       "Name: Tourist attraction places, dtype: int64"
      ]
     },
     "execution_count": 84,
     "metadata": {},
     "output_type": "execute_result"
    }
   ],
   "source": [
    "series[series>200 ]"
   ]
  },
  {
   "cell_type": "code",
   "execution_count": 87,
   "id": "a5e08656-a76d-436d-8662-722753b84175",
   "metadata": {},
   "outputs": [
    {
     "data": {
      "text/plain": [
       "Victoria Falls              300\n",
       "Mutarazi Falls              250\n",
       "Nyanga Mountain             250\n",
       "Gonarezhou National Park    295\n",
       "Name: Tourist attraction places, dtype: int64"
      ]
     },
     "execution_count": 87,
     "metadata": {},
     "output_type": "execute_result"
    }
   ],
   "source": [
    "series[-(series<100)]"
   ]
  },
  {
   "cell_type": "code",
   "execution_count": 99,
   "id": "540b26c2-2235-4ae5-9244-251f59af2629",
   "metadata": {},
   "outputs": [
    {
     "name": "stdout",
     "output_type": "stream",
     "text": [
      "   apple  orange\n",
      "0      3       0\n",
      "1      2       3\n",
      "2      0       7\n",
      "3      1       2\n"
     ]
    }
   ],
   "source": [
    "data={'apple':[3,2,0,1],'orange':[0,3,7,2]}\n",
    "df=pd.DataFrame(data)\n",
    "print(df)"
   ]
  }
 ],
 "metadata": {
  "kernelspec": {
   "display_name": "Python 3 (ipykernel)",
   "language": "python",
   "name": "python3"
  },
  "language_info": {
   "codemirror_mode": {
    "name": "ipython",
    "version": 3
   },
   "file_extension": ".py",
   "mimetype": "text/x-python",
   "name": "python",
   "nbconvert_exporter": "python",
   "pygments_lexer": "ipython3",
   "version": "3.13.1"
  }
 },
 "nbformat": 4,
 "nbformat_minor": 5
}
