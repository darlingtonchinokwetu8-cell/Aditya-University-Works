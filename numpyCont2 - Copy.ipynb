{
 "cells": [
  {
   "cell_type": "code",
   "execution_count": 1,
   "id": "c8c073a5-f419-4d67-9de9-5f170122072a",
   "metadata": {},
   "outputs": [
    {
     "name": "stdout",
     "output_type": "stream",
     "text": [
      "Help on ufunc in module numpy:\n",
      "\n",
      "add = <ufunc 'add'>\n",
      "    add(x1, x2, /, out=None, *, where=True, casting='same_kind', order='K', dtype=None, subok=True[, signature])\n",
      "\n",
      "    Add arguments element-wise.\n",
      "\n",
      "    Parameters\n",
      "    ----------\n",
      "    x1, x2 : array_like\n",
      "        The arrays to be added.\n",
      "        If ``x1.shape != x2.shape``, they must be broadcastable to a common\n",
      "        shape (which becomes the shape of the output).\n",
      "    out : ndarray, None, or tuple of ndarray and None, optional\n",
      "        A location into which the result is stored. If provided, it must have\n",
      "        a shape that the inputs broadcast to. If not provided or None,\n",
      "        a freshly-allocated array is returned. A tuple (possible only as a\n",
      "        keyword argument) must have length equal to the number of outputs.\n",
      "    where : array_like, optional\n",
      "        This condition is broadcast over the input. At locations where the\n",
      "        condition is True, the `out` array will be set to the ufunc result.\n",
      "        Elsewhere, the `out` array will retain its original value.\n",
      "        Note that if an uninitialized `out` array is created via the default\n",
      "        ``out=None``, locations within it where the condition is False will\n",
      "        remain uninitialized.\n",
      "    **kwargs\n",
      "        For other keyword-only arguments, see the\n",
      "        :ref:`ufunc docs <ufuncs.kwargs>`.\n",
      "\n",
      "    Returns\n",
      "    -------\n",
      "    add : ndarray or scalar\n",
      "        The sum of `x1` and `x2`, element-wise.\n",
      "        This is a scalar if both `x1` and `x2` are scalars.\n",
      "\n",
      "    Notes\n",
      "    -----\n",
      "    Equivalent to `x1` + `x2` in terms of array broadcasting.\n",
      "\n",
      "    Examples\n",
      "    --------\n",
      "    >>> import numpy as np\n",
      "    >>> np.add(1.0, 4.0)\n",
      "    5.0\n",
      "    >>> x1 = np.arange(9.0).reshape((3, 3))\n",
      "    >>> x2 = np.arange(3.0)\n",
      "    >>> np.add(x1, x2)\n",
      "    array([[  0.,   2.,   4.],\n",
      "           [  3.,   5.,   7.],\n",
      "           [  6.,   8.,  10.]])\n",
      "\n",
      "    The ``+`` operator can be used as a shorthand for ``np.add`` on ndarrays.\n",
      "\n",
      "    >>> x1 = np.arange(9.0).reshape((3, 3))\n",
      "    >>> x2 = np.arange(3.0)\n",
      "    >>> x1 + x2\n",
      "    array([[ 0.,  2.,  4.],\n",
      "           [ 3.,  5.,  7.],\n",
      "           [ 6.,  8., 10.]])\n",
      "\n"
     ]
    }
   ],
   "source": [
    "#1a.description of  'add' \n",
    "import numpy as np\n",
    "help(np.add)\n"
   ]
  },
  {
   "cell_type": "code",
   "execution_count": 2,
   "id": "083c27c7-4dbf-484c-a358-222792e3c68b",
   "metadata": {},
   "outputs": [
    {
     "name": "stdout",
     "output_type": "stream",
     "text": [
      "add(x1, x2, /, out=None, *, where=True, casting='same_kind', order='K', dtype=None, subok=True[, signature])\n",
      "\n",
      "Add arguments element-wise.\n",
      "\n",
      "Parameters\n",
      "----------\n",
      "x1, x2 : array_like\n",
      "    The arrays to be added.\n",
      "    If ``x1.shape != x2.shape``, they must be broadcastable to a common\n",
      "    shape (which becomes the shape of the output).\n",
      "out : ndarray, None, or tuple of ndarray and None, optional\n",
      "    A location into which the result is stored. If provided, it must have\n",
      "    a shape that the inputs broadcast to. If not provided or None,\n",
      "    a freshly-allocated array is returned. A tuple (possible only as a\n",
      "    keyword argument) must have length equal to the number of outputs.\n",
      "where : array_like, optional\n",
      "    This condition is broadcast over the input. At locations where the\n",
      "    condition is True, the `out` array will be set to the ufunc result.\n",
      "    Elsewhere, the `out` array will retain its original value.\n",
      "    Note that if an uninitialized `out` array is created via the default\n",
      "    ``out=None``, locations within it where the condition is False will\n",
      "    remain uninitialized.\n",
      "**kwargs\n",
      "    For other keyword-only arguments, see the\n",
      "    :ref:`ufunc docs <ufuncs.kwargs>`.\n",
      "\n",
      "Returns\n",
      "-------\n",
      "add : ndarray or scalar\n",
      "    The sum of `x1` and `x2`, element-wise.\n",
      "    This is a scalar if both `x1` and `x2` are scalars.\n",
      "\n",
      "Notes\n",
      "-----\n",
      "Equivalent to `x1` + `x2` in terms of array broadcasting.\n",
      "\n",
      "Examples\n",
      "--------\n",
      ">>> import numpy as np\n",
      ">>> np.add(1.0, 4.0)\n",
      "5.0\n",
      ">>> x1 = np.arange(9.0).reshape((3, 3))\n",
      ">>> x2 = np.arange(3.0)\n",
      ">>> np.add(x1, x2)\n",
      "array([[  0.,   2.,   4.],\n",
      "       [  3.,   5.,   7.],\n",
      "       [  6.,   8.,  10.]])\n",
      "\n",
      "The ``+`` operator can be used as a shorthand for ``np.add`` on ndarrays.\n",
      "\n",
      ">>> x1 = np.arange(9.0).reshape((3, 3))\n",
      ">>> x2 = np.arange(3.0)\n",
      ">>> x1 + x2\n",
      "array([[ 0.,  2.,  4.],\n",
      "       [ 3.,  5.,  7.],\n",
      "       [ 6.,  8., 10.]])\n",
      "None\n"
     ]
    }
   ],
   "source": [
    "print(np.info(np.add))"
   ]
  },
  {
   "cell_type": "code",
   "execution_count": 6,
   "id": "97047b98-4a70-4af9-bde0-df4df936ec86",
   "metadata": {},
   "outputs": [
    {
     "name": "stdout",
     "output_type": "stream",
     "text": [
      "\n",
      " All elements are non-zero : True\n"
     ]
    }
   ],
   "source": [
    "#b.testing that none of the elements of a given array is zero----using 'all'\n",
    "arr=np.array([5,4,3,2,7,6,8,9,10])\n",
    "print(\"\\n All elements are non-zero :\",np.all(arr))"
   ]
  },
  {
   "cell_type": "code",
   "execution_count": 13,
   "id": "5a3deb9e-0aa9-4fca-8dc2-7967ef2bdd15",
   "metadata": {},
   "outputs": [
    {
     "name": "stdout",
     "output_type": "stream",
     "text": [
      "Greater: [ True  True  True  True  True  True]\n",
      "Greater equal: [ True  True  True  True  True  True]\n",
      "Less : [False False False False False False]\n",
      "Less Equal : [False False False False False False]\n",
      "Equal : [False False False False False False]\n"
     ]
    }
   ],
   "source": [
    "#c.to create element-wise comparison (greater,greater_equal\n",
    "#less ,less_equal,equal,within a tolerance) of two given arrays.\n",
    "#greater\n",
    "a=np.array([5,6,4,3,2,7])\n",
    "b=np.array([1,2,3,4,5,6])\n",
    "print(\"Greater:\",np.greater(a,b))\n",
    "print(\"Greater equal:\",np.greater_equal(a,b))\n",
    "print(\"Less :\",np.less(a,b))\n",
    "print(\"Less Equal :\",np.less_equal(a,b))\n",
    "print(\"Equal :\",np.equal(a,b))"
   ]
  },
  {
   "cell_type": "code",
   "execution_count": 26,
   "id": "bf24c4a0-eae4-40d8-ab11-395b73bced3c",
   "metadata": {},
   "outputs": [
    {
     "name": "stdout",
     "output_type": "stream",
     "text": [
      "Allclose : False\n"
     ]
    }
   ],
   "source": [
    "#check if arrays are almost equalm(within tolerance):upto 4 dp\n",
    "arr1=np.array([1.00001,1.00002])\n",
    "arr2=np.array([1.0000,2.00002])\n",
    "print(\"Allclose :\",np.allclose(arr1,arr2))"
   ]
  },
  {
   "cell_type": "code",
   "execution_count": 27,
   "id": "66639b79-cd60-4f16-9ae8-3db03875b2ed",
   "metadata": {},
   "outputs": [
    {
     "name": "stdout",
     "output_type": "stream",
     "text": [
      "Convert array to list : [5, 6, 4, 3, 2, 7]\n"
     ]
    }
   ],
   "source": [
    "#to list\n",
    "print(\"Convert array to list :\",a.tolist())"
   ]
  },
  {
   "cell_type": "code",
   "execution_count": 41,
   "id": "aed4ce3a-3ec1-4b45-827b-4fd444e97276",
   "metadata": {},
   "outputs": [
    {
     "name": "stdout",
     "output_type": "stream",
     "text": [
      "ELements greater than 20 : [21 22 34 24]\n",
      "ELements less than 16 : [8 7 6 5 4 3 2 1]\n",
      "ELements less than 16 : [ True  True  True  True  True  True  True  True False False False False\n",
      " False]\n",
      "Argmax (axis=0): 9\n",
      "Argmax (axis=1): [1 0]\n"
     ]
    }
   ],
   "source": [
    "#3.2 Numpy code usign ,methods(min,max,argmin,argmax,repre,bincount,....)\n",
    "\n",
    "A=np.array([8,7,6,5,4,3,2,1,20,21,22,34,24])\n",
    "\n",
    "#numbers greater than 20\n",
    "print(\"ELements greater than 20 :\",A[A>20])\n",
    "\n",
    "#numbers less than 16\n",
    "print(\"ELements less than 16 :\",A[A<16])\n",
    "print(\"ELements less than 16 :\",A<16)#true/false \n",
    "\n",
    "#indices of max and min numbers along  a given axis\n",
    "arr2D=np.array([[10,9,13,14,14],[5,10,15,20,25]])\n",
    "\n",
    "#index of max along axis 0 (column-wise\n",
    "#oif you don't put tha axis ,it retrives the index of the maximum number\n",
    "print(\"Argmax (axis=0):\",np.argmax(arr2D))\n",
    "\n",
    "#index of min along axis 1(row-wise)\n",
    "print(\"Argmax (axis=1):\",np.argmin(arr2D,axis=1))"
   ]
  },
  {
   "cell_type": "code",
   "execution_count": 45,
   "id": "346b2ffc-585c-4ef3-ae20-70a75d11afed",
   "metadata": {},
   "outputs": [
    {
     "name": "stdout",
     "output_type": "stream",
     "text": [
      "Repre : array([7, 5, 8, 4, 9, 2, 9, 3, 2, 3, 4, 3, 3, 5, 6, 7, 7, 8])\n",
      "Bincount : [0 0 2 4 2 2 1 3 2 2]\n",
      "Unique values : [2 3 4 5 6 7 8 9]\n"
     ]
    }
   ],
   "source": [
    "#repr,bincount and unique;\n",
    "arr=np.array([7,5,8,4,9,2,9,3,2,3,4,3,3,5,6,7,7,8])\n",
    "print(\"Repre :\",repr(arr))#representation arr-->it is an array\n",
    "print(\"Bincount :\",np.bincount(arr))\n",
    "print(\"Unique values :\",np.unique(arr))"
   ]
  }
 ],
 "metadata": {
  "kernelspec": {
   "display_name": "Python 3 (ipykernel)",
   "language": "python",
   "name": "python3"
  },
  "language_info": {
   "codemirror_mode": {
    "name": "ipython",
    "version": 3
   },
   "file_extension": ".py",
   "mimetype": "text/x-python",
   "name": "python",
   "nbconvert_exporter": "python",
   "pygments_lexer": "ipython3",
   "version": "3.13.1"
  }
 },
 "nbformat": 4,
 "nbformat_minor": 5
}
