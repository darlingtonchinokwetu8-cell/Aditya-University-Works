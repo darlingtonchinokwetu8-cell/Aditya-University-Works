{
 "cells": [
  {
   "cell_type": "code",
   "execution_count": 5,
   "id": "c5c8f99a-3fab-4ed5-b8ae-5b68d8225cd1",
   "metadata": {},
   "outputs": [
    {
     "data": {
      "text/plain": [
       "array([1, 2, 3, 4, 5, 6, 7, 8])"
      ]
     },
     "execution_count": 5,
     "metadata": {},
     "output_type": "execute_result"
    }
   ],
   "source": [
    "import numpy as np\n",
    "a=np.array([1,2,3,4])\n",
    "b=np.array([5,6,7,8])\n",
    "c=np.concatenate((a,b))\n",
    "c"
   ]
  },
  {
   "cell_type": "code",
   "execution_count": 4,
   "id": "2c606095-5746-4f98-9795-6a392470134e",
   "metadata": {},
   "outputs": [
    {
     "data": {
      "text/plain": [
       "array([[1, 2],\n",
       "       [3, 4],\n",
       "       [5, 6],\n",
       "       [8, 7]])"
      ]
     },
     "execution_count": 4,
     "metadata": {},
     "output_type": "execute_result"
    }
   ],
   "source": [
    "import numpy as np\n",
    "x=np.array([[1,2],[3,4]])\n",
    "y=np.array([[5,6],[8,7]])\n",
    "z=np.concatenate((x,y),axis=0)\n",
    "z"
   ]
  },
  {
   "cell_type": "code",
   "execution_count": 8,
   "id": "e4f7e961-21a8-4d14-8493-80338c346a76",
   "metadata": {},
   "outputs": [
    {
     "name": "stdout",
     "output_type": "stream",
     "text": [
      "[0 1 2 3 4 5]\n"
     ]
    },
    {
     "data": {
      "text/plain": [
       "(6,)"
      ]
     },
     "execution_count": 8,
     "metadata": {},
     "output_type": "execute_result"
    }
   ],
   "source": [
    "#using arr.reshape()\n",
    "import numpy as np\n",
    "a=np.arange(6)\n",
    "print(a)\n",
    "a.shape"
   ]
  },
  {
   "cell_type": "code",
   "execution_count": 15,
   "id": "6c9ef33f-a503-47bf-8201-1ca860eb8e45",
   "metadata": {},
   "outputs": [
    {
     "name": "stdout",
     "output_type": "stream",
     "text": [
      "[[0 1]\n",
      " [2 3]\n",
      " [4 5]]\n"
     ]
    }
   ],
   "source": [
    "b=a.reshape(3,-1)\n",
    "print(b)"
   ]
  },
  {
   "cell_type": "code",
   "execution_count": 16,
   "id": "fb67739c-c128-439c-9a14-07ef2615767f",
   "metadata": {},
   "outputs": [
    {
     "data": {
      "text/plain": [
       "array([ 6,  7,  8,  9, 10, 11, 12])"
      ]
     },
     "execution_count": 16,
     "metadata": {},
     "output_type": "execute_result"
    }
   ],
   "source": [
    "a=np.array([[1,2,3,4],[5,6,7,8],[9,10,11,12]])\n",
    "b=a[a>=6]\n",
    "b"
   ]
  },
  {
   "cell_type": "code",
   "execution_count": 17,
   "id": "4deb452a-9926-4bfe-82b4-3277b1878f9c",
   "metadata": {},
   "outputs": [
    {
     "data": {
      "text/plain": [
       "array([ 3,  6,  9, 12])"
      ]
     },
     "execution_count": 17,
     "metadata": {},
     "output_type": "execute_result"
    }
   ],
   "source": [
    "divisibleBy3=a[a%3==0]\n",
    "divisibleBy3"
   ]
  },
  {
   "cell_type": "code",
   "execution_count": null,
   "id": "07e9df6e-ffaf-4dc6-82db-65cf5aa0eec1",
   "metadata": {},
   "outputs": [],
   "source": [
    "#vstack and hstack  to be done"
   ]
  },
  {
   "cell_type": "code",
   "execution_count": 2,
   "id": "11567050-10c4-4610-86de-4e63fa3e2aff",
   "metadata": {},
   "outputs": [
    {
     "data": {
      "text/plain": [
       "array([[ 1,  2,  3,  4,  5,  6,  7,  8,  9, 10, 11, 12],\n",
       "       [13, 14, 15, 16, 17, 18, 19, 20, 21, 22, 23, 24]])"
      ]
     },
     "execution_count": 2,
     "metadata": {},
     "output_type": "execute_result"
    }
   ],
   "source": [
    "import numpy as np\n",
    "x=np.arange(1,25).reshape(2,12)\n",
    "x"
   ]
  },
  {
   "cell_type": "code",
   "execution_count": 3,
   "id": "398e1a38-0f4f-4ff5-8f26-8c641bad1671",
   "metadata": {},
   "outputs": [
    {
     "data": {
      "text/plain": [
       "[array([[ 1,  2,  3,  4],\n",
       "        [13, 14, 15, 16]]),\n",
       " array([[ 5,  6,  7,  8],\n",
       "        [17, 18, 19, 20]]),\n",
       " array([[ 9, 10, 11, 12],\n",
       "        [21, 22, 23, 24]])]"
      ]
     },
     "execution_count": 3,
     "metadata": {},
     "output_type": "execute_result"
    }
   ],
   "source": [
    "np.hsplit(x,3)"
   ]
  },
  {
   "cell_type": "code",
   "execution_count": 4,
   "id": "63e59544-e48b-4d47-84cc-15a7fa06ebf2",
   "metadata": {},
   "outputs": [
    {
     "name": "stdout",
     "output_type": "stream",
     "text": [
      "This is B2 : [[ 1  2  3 40  5  6  7  8  9 10 11 12]\n",
      " [13 14 15 16 17 18 19 20 21 22 23 24]]\n",
      "This is X : [[ 1  2  3  4  5  6  7  8  9 10 11 12]\n",
      " [13 14 15 16 17 18 19 20 21 22 23 24]]\n"
     ]
    }
   ],
   "source": [
    "b2=x.copy()\n",
    "b2[0][3]=40\n",
    "print(\"This is B2 :\",b2)\n",
    "print(\"This is X :\",x)\n"
   ]
  },
  {
   "cell_type": "code",
   "execution_count": 41,
   "id": "b16d81fc-1f1c-4e62-880a-e02da253d809",
   "metadata": {},
   "outputs": [
    {
     "name": "stdout",
     "output_type": "stream",
     "text": [
      "Sliced array is  [20  9 12]\n",
      "Original array is  [ 3 20  9 12]\n"
     ]
    }
   ],
   "source": [
    "d=divisibleBy3[1:]\n",
    "d[0]=20\n",
    "print(\"Sliced array is \",d)\n",
    "print(\"Original array is \",divisibleBy3)"
   ]
  },
  {
   "cell_type": "code",
   "execution_count": 42,
   "id": "646b32c2-423e-4f23-be4b-9dfff852f063",
   "metadata": {},
   "outputs": [
    {
     "name": "stdout",
     "output_type": "stream",
     "text": [
      "The original array-> [40  2  3  4  5]\n",
      "The array x-> [40  2  3  4  5]\n"
     ]
    }
   ],
   "source": [
    "import numpy as np\n",
    "arr=np.array([1,2,3,4,5])\n",
    "x=arr.view()\n",
    "x[0]=40\n",
    "print(\"The original array->\",arr)\n",
    "print(\"The array x->\",x)"
   ]
  },
  {
   "cell_type": "code",
   "execution_count": 62,
   "id": "13ffaa90-dce2-49b6-a303-05287c0fb79a",
   "metadata": {},
   "outputs": [
    {
     "data": {
      "text/plain": [
       "array([ 5,  7,  9, 11, 13])"
      ]
     },
     "execution_count": 62,
     "metadata": {},
     "output_type": "execute_result"
    }
   ],
   "source": [
    "a1=np.arange(5)\n",
    "a2=np.array([5,6,7,8,9])\n",
    "a3=a1+a2\n",
    "a3\n"
   ]
  },
  {
   "cell_type": "code",
   "execution_count": 60,
   "id": "e234450e-9944-4e03-8136-a074e4894b62",
   "metadata": {},
   "outputs": [
    {
     "data": {
      "text/plain": [
       "[[8, 7, 6, 5, 4],\n",
       " [3, 2, 2, 1],\n",
       " [1, 2, 3, 4],\n",
       " [1, 2, 3, 4],\n",
       " [5, 6, 7, 8],\n",
       " [10, 11, 12, 13]]"
      ]
     },
     "execution_count": 60,
     "metadata": {},
     "output_type": "execute_result"
    }
   ],
   "source": [
    "b1=[[1,2,3,4],[5,6,7,8],[10,11,12,13]]\n",
    "b2=[[8,7,6,5,4],[3,2,2,1],[1,2,3,4]]\n",
    "b3=b2+b1\n",
    "b3"
   ]
  },
  {
   "cell_type": "code",
   "execution_count": 67,
   "id": "2e5d20be-ff17-4bfb-8011-6e1da6f7d1be",
   "metadata": {},
   "outputs": [
    {
     "name": "stdout",
     "output_type": "stream",
     "text": [
      "[ 0  2  3  4  5  6  7 12 13 14]\n",
      "[11 12 13 14 15 16 17 18 19 20]\n"
     ]
    }
   ],
   "source": [
    "a=np.array([11,11,12,13,14,15,16,17,12,13,11,14,18,19,20])\n",
    "unique_values,indices_list=np.unique(a,return_index=True)\n",
    "print(indices_list)\n",
    "print(unique_values)"
   ]
  },
  {
   "cell_type": "code",
   "execution_count": 68,
   "id": "e9dabc95-5ec3-4fb0-a5e4-63942dbc2459",
   "metadata": {},
   "outputs": [
    {
     "name": "stdout",
     "output_type": "stream",
     "text": [
      "The reversed array is : [8 7 6 5 4 3 2 1]\n"
     ]
    }
   ],
   "source": [
    "arr=np.array([1,2,3,4,5,6,7,8])\n",
    "reversed_arr=np.flip(arr)\n",
    "print(\"The reversed array is :\",reversed_arr)"
   ]
  },
  {
   "cell_type": "code",
   "execution_count": null,
   "id": "929a4bc7-e66b-4f32-9ef9-37e96292f79e",
   "metadata": {},
   "outputs": [],
   "source": []
  }
 ],
 "metadata": {
  "kernelspec": {
   "display_name": "Python 3 (ipykernel)",
   "language": "python",
   "name": "python3"
  },
  "language_info": {
   "codemirror_mode": {
    "name": "ipython",
    "version": 3
   },
   "file_extension": ".py",
   "mimetype": "text/x-python",
   "name": "python",
   "nbconvert_exporter": "python",
   "pygments_lexer": "ipython3",
   "version": "3.13.1"
  }
 },
 "nbformat": 4,
 "nbformat_minor": 5
}
