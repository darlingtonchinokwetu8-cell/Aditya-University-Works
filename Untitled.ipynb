{
 "cells": [
  {
   "cell_type": "code",
   "execution_count": null,
   "id": "6e5bcf35-de3c-4cd7-b383-4b6605c13232",
   "metadata": {},
   "outputs": [],
   "source": []
  }
 ],
 "metadata": {
  "kernelspec": {
   "display_name": "",
   "name": ""
  },
  "language_info": {
   "name": ""
  }
 },
 "nbformat": 4,
 "nbformat_minor": 5
}
